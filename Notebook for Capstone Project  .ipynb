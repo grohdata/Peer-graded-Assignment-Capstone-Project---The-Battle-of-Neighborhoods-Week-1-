{
    "cells": [
        {
            "cell_type": "markdown",
            "metadata": {
                "collapsed": true
            },
            "source": "## Capstone Project - The Battle of Neighborhoods (Week 1)"
        },
        {
            "cell_type": "markdown",
            "metadata": {},
            "source": "### Introduction "
        },
        {
            "cell_type": "markdown",
            "metadata": {},
            "source": "San Francisco is located along Northern California's majestic coastline and inhabited by an economically and culturally diverse population. Despite its worldwide fame, San Francisco is a relatively small city with a population of about 884,000. At roughly 7 miles x 7 miles, the city is largely walkable. While some characteristics of its 37 neighborhoods overlap, each is uniquely distinct and the presence or absence of basic services such as a public transportation stop, cafes, or grocery stores can have enormous impacts on the living experiences and sense of community among local residents. "
        },
        {
            "cell_type": "markdown",
            "metadata": {},
            "source": "As a consequence of being located in the epicenter of the tech boom, the cost of living in San Francisco Bay Area has skyrocketed over the last decade. With the exodus of local residents and shops, many neighborhoods are unrecognizable. The individualization of previously shared social experiences (transportation, shopping, etc) has further unraveled the social cohesion and percieved livibility of certain neighborhoods. Privatized, autoschediastic responses to underdeveloped infrastructure (Uber instead of an expansive metro system, grocery delivery apps instead of building grocery stores in neighborhoods with food deserts, a few mobile toilets instead of public bathrooms etc) make it increasingly difficult for people to connect with their neighbors."
        },
        {
            "cell_type": "markdown",
            "metadata": {},
            "source": "### Business Problem"
        },
        {
            "cell_type": "markdown",
            "metadata": {},
            "source": "### Background: "
        },
        {
            "cell_type": "markdown",
            "metadata": {},
            "source": "A group of neighbors from the Outer Richmond neighborhood in San Francisco have reached out to their district Representative at City Hall with regard to the unneccesary and abnormal inconveniences they have to deal with on a daily basis due to an absence of healthy grocery stores carrying local produce in their neighborhood. In turn, the City has created a task force to respond to the problem. They will collect data and analyze the geography and population of the neighborhood, the presence of existing grocery stores, locations that are absent of grocery stores, locations of weekly farmers markets, transporation location, and parks. "
        },
        {
            "cell_type": "markdown",
            "metadata": {},
            "source": "### Description of the data and how it will be used to solve the problem "
        },
        {
            "cell_type": "markdown",
            "metadata": {},
            "source": "Data will be gathered from various sources, including:\n\nDataSF Neighborhood data  <https://data.sfgov.org/Geographic-Locations-and-Boundaries/Planning-Neighborhood-Groups-Map/iacs-ws63> in order to understand neighborhood demographics\n\nData SF Bus Stop data <https://data.sfgov.org/Transportation/Muni-Stops/i28k-bkz6> in order to analyze optimal location data\n\nFourSquare to analyze the presence of existing grocery stores in the neighborhood. \n"
        }
    ],
    "metadata": {
        "kernelspec": {
            "display_name": "Python 3.6",
            "language": "python",
            "name": "python3"
        },
        "language_info": {
            "codemirror_mode": {
                "name": "ipython",
                "version": 3
            },
            "file_extension": ".py",
            "mimetype": "text/x-python",
            "name": "python",
            "nbconvert_exporter": "python",
            "pygments_lexer": "ipython3",
            "version": "3.6.9"
        }
    },
    "nbformat": 4,
    "nbformat_minor": 1
}